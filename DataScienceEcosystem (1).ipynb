{
 "cells": [
  {
   "cell_type": "markdown",
   "id": "bbd0b72d-07a6-4735-8b42-c2b5c6d9577d",
   "metadata": {},
   "source": [
    "# Data Science Tools and Ecosystem"
   ]
  },
  {
   "cell_type": "markdown",
   "id": "706f5630-df36-4d21-9f7f-b4df0a449003",
   "metadata": {},
   "source": [
    "# Introduction"
   ]
  },
  {
   "cell_type": "markdown",
   "id": "df9d3ec6-40eb-4e81-a05e-251334161c80",
   "metadata": {},
   "source": [
    "In this notebook, Data science Tools and Ecosystem are summarized."
   ]
  },
  {
   "cell_type": "code",
   "execution_count": null,
   "id": "636c3f25-4d9e-48f5-8166-d38b4ace231b",
   "metadata": {},
   "outputs": [],
   "source": []
  },
  {
   "cell_type": "markdown",
   "id": "c5ae8266-c86b-4695-9437-85919a38577b",
   "metadata": {},
   "source": [
    "Some of the commonly used libraries used by Data Scientists include:\n",
    "1. R\n",
    "2. Python\n",
    "3. SQL\n",
    "   "
   ]
  },
  {
   "cell_type": "markdown",
   "id": "7544ea94-dec3-488e-b62a-56d9dc7fa01d",
   "metadata": {},
   "source": [
    "# Data Science Tools"
   ]
  },
  {
   "cell_type": "markdown",
   "id": "d2d40d64-2ec9-4248-a70e-3f1110f26f03",
   "metadata": {},
   "source": [
    "|Data Science Tools|\n",
    "|-------------------|\n",
    "|Jupyter Notebooks|\n",
    "|RStudio|\n",
    "|Apache zeppelin|"
   ]
  },
  {
   "cell_type": "markdown",
   "id": "8123d89b-a67b-4db2-84e5-fbf6d3e17d48",
   "metadata": {},
   "source": [
    "### Below are a few examples of evaluating arithmetic expressions in Python."
   ]
  },
  {
   "cell_type": "code",
   "execution_count": 5,
   "id": "68c44841-7183-4fa5-be37-e3415ed1f217",
   "metadata": {},
   "outputs": [
    {
     "data": {
      "text/plain": [
       "17"
      ]
     },
     "execution_count": 5,
     "metadata": {},
     "output_type": "execute_result"
    }
   ],
   "source": [
    "(3 * 4) + 5"
   ]
  },
  {
   "cell_type": "code",
   "execution_count": 7,
   "id": "ebe49fe6-1571-47ee-89f3-45fc3c834f0b",
   "metadata": {},
   "outputs": [
    {
     "data": {
      "text/plain": [
       "3.3333333333333335"
      ]
     },
     "execution_count": 7,
     "metadata": {},
     "output_type": "execute_result"
    }
   ],
   "source": [
    "# This will convert 200 minutes to hours by dividing by 60\n",
    "200 / 60"
   ]
  },
  {
   "cell_type": "markdown",
   "id": "4f7c7a11-f9fe-4e60-b1be-14eb765058f6",
   "metadata": {},
   "source": [
    "**Objectives:**\n",
    "\n",
    "- List popular languages for Data Science\n",
    "- Create tables and lists in Jupyter Notebooks\n",
    "- Perform arithmetic operations in Python\n",
    "- Convert units (e.g., minutes to hours)"
   ]
  },
  {
   "cell_type": "markdown",
   "id": "3f88db47-3f5e-4a98-9a2b-fdc3bfc0cf7c",
   "metadata": {},
   "source": [
    "## Author\n",
    "\n",
    "Sandani Wimalaweera"
   ]
  },
  {
   "cell_type": "markdown",
   "id": "df8915e2-2e74-428e-9095-733f33d01a3a",
   "metadata": {},
   "source": [
    "Some of the popular languages that Data Scientists use are:\n",
    "1. Python\n",
    "2. R\n",
    "3. SQL\n",
    "4. Julia\n",
    "5. Scala"
   ]
  },
  {
   "cell_type": "code",
   "execution_count": null,
   "id": "afd324f3-2e35-4a06-a4b8-4fcd40ba49a7",
   "metadata": {},
   "outputs": [],
   "source": []
  }
 ],
 "metadata": {
  "kernelspec": {
   "display_name": "Python 3 (ipykernel)",
   "language": "python",
   "name": "python3"
  },
  "language_info": {
   "codemirror_mode": {
    "name": "ipython",
    "version": 3
   },
   "file_extension": ".py",
   "mimetype": "text/x-python",
   "name": "python",
   "nbconvert_exporter": "python",
   "pygments_lexer": "ipython3",
   "version": "3.12.3"
  }
 },
 "nbformat": 4,
 "nbformat_minor": 5
}
